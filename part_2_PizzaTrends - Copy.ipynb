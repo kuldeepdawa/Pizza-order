{
 "cells": [
  {
   "cell_type": "markdown",
   "metadata": {
    "colab_type": "text",
    "id": "hHyUe68C7zGe"
   },
   "source": [
    "#  Merging all  Three files\n"
   ]
  },
  {
   "cell_type": "code",
   "execution_count": 2,
   "metadata": {
    "colab": {},
    "colab_type": "code",
    "id": "7dvACWRV7GpJ"
   },
   "outputs": [],
   "source": [
    "import pandas as pd\n",
    "import matplotlib.pyplot as plt\n",
    "\n",
    "# read all csv files\n",
    "\n",
    "Region =pd.read_csv('Region.csv')\n",
    "StoreDetails = pd.read_csv('StoreDetails.csv',parse_dates=['Date'],dayfirst=True)\n",
    "Weekly_Sales = pd.read_csv('Weekly_Sales.csv',parse_dates=['Date'],dayfirst=True)"
   ]
  },
  {
   "cell_type": "code",
   "execution_count": 3,
   "metadata": {
    "colab": {},
    "colab_type": "code",
    "id": "VChDij1K_EwP"
   },
   "outputs": [],
   "source": [
    "Two_files_merged = pd.merge(StoreDetails,Weekly_Sales,on=['Store','Date']) # merge two files"
   ]
  },
  {
   "cell_type": "code",
   "execution_count": 4,
   "metadata": {
    "colab": {},
    "colab_type": "code",
    "id": "GTPJ2uub_dYV"
   },
   "outputs": [],
   "source": [
    "merged_all_files = pd.merge(Two_files_merged,Region,on=['Store']) # merge third file"
   ]
  },
  {
   "cell_type": "markdown",
   "metadata": {
    "colab_type": "text",
    "id": "2AQZBihJBaF9"
   },
   "source": [
    "# compare average temperature of five different region's"
   ]
  },
  {
   "cell_type": "code",
   "execution_count": 5,
   "metadata": {
    "colab": {
     "base_uri": "https://localhost:8080/",
     "height": 206
    },
    "colab_type": "code",
    "id": "wYwyBJ-TAUHn",
    "outputId": "9d7bb68b-5946-4504-eb3a-c99fe068b451"
   },
   "outputs": [
    {
     "data": {
      "text/html": [
       "<div>\n",
       "<style scoped>\n",
       "    .dataframe tbody tr th:only-of-type {\n",
       "        vertical-align: middle;\n",
       "    }\n",
       "\n",
       "    .dataframe tbody tr th {\n",
       "        vertical-align: top;\n",
       "    }\n",
       "\n",
       "    .dataframe thead th {\n",
       "        text-align: right;\n",
       "    }\n",
       "</style>\n",
       "<table border=\"1\" class=\"dataframe\">\n",
       "  <thead>\n",
       "    <tr style=\"text-align: right;\">\n",
       "      <th></th>\n",
       "      <th>Region</th>\n",
       "      <th>Temperature</th>\n",
       "    </tr>\n",
       "  </thead>\n",
       "  <tbody>\n",
       "    <tr>\n",
       "      <th>0</th>\n",
       "      <td>A</td>\n",
       "      <td>64.370031</td>\n",
       "    </tr>\n",
       "    <tr>\n",
       "      <th>1</th>\n",
       "      <td>B</td>\n",
       "      <td>58.121694</td>\n",
       "    </tr>\n",
       "    <tr>\n",
       "      <th>2</th>\n",
       "      <td>C</td>\n",
       "      <td>54.159340</td>\n",
       "    </tr>\n",
       "    <tr>\n",
       "      <th>3</th>\n",
       "      <td>D</td>\n",
       "      <td>64.366472</td>\n",
       "    </tr>\n",
       "    <tr>\n",
       "      <th>4</th>\n",
       "      <td>E</td>\n",
       "      <td>62.301375</td>\n",
       "    </tr>\n",
       "  </tbody>\n",
       "</table>\n",
       "</div>"
      ],
      "text/plain": [
       "  Region  Temperature\n",
       "0      A    64.370031\n",
       "1      B    58.121694\n",
       "2      C    54.159340\n",
       "3      D    64.366472\n",
       "4      E    62.301375"
      ]
     },
     "execution_count": 5,
     "metadata": {},
     "output_type": "execute_result"
    }
   ],
   "source": [
    "Temperature = merged_all_files.groupby('Region', as_index=False)['Temperature'].mean() #get mean temperature of all region \n",
    "Temperature.head()"
   ]
  },
  {
   "cell_type": "code",
   "execution_count": 6,
   "metadata": {
    "colab": {
     "base_uri": "https://localhost:8080/",
     "height": 283
    },
    "colab_type": "code",
    "id": "pkLhddX5BY6M",
    "outputId": "1e04ee23-063e-45e4-f495-f469758cb65b"
   },
   "outputs": [
    {
     "data": {
      "image/png": "[encoded data removed]",
      "text/plain": [
       "<Figure size 432x288 with 1 Axes>"
      ]
     },
     "metadata": {
      "needs_background": "light"
     },
     "output_type": "display_data"
    }
   ],
   "source": [
    "plt.bar(Temperature['Region'],Temperature['Temperature'])\n",
    "plt.xticks(Temperature['Region'])\n",
    "plt.xlabel('Region')\n",
    "plt.ylabel('Average Temperature')\n",
    "plt.show()\n",
    "\n",
    "\n"
   ]
  },
  {
   "cell_type": "markdown",
   "metadata": {
    "colab_type": "text",
    "id": "f7LP7EHoXJvk"
   },
   "source": [
    "# analyze yearly average temperature and unemployment  for region A "
   ]
  },
  {
   "cell_type": "code",
   "execution_count": 7,
   "metadata": {
    "colab": {
     "base_uri": "https://localhost:8080/",
     "height": 143
    },
    "colab_type": "code",
    "id": "-ntCmWHZF_xB",
    "outputId": "11b89159-4425-46cb-9fe9-480d321ae800"
   },
   "outputs": [
    {
     "data": {
      "text/html": [
       "<div>\n",
       "<style scoped>\n",
       "    .dataframe tbody tr th:only-of-type {\n",
       "        vertical-align: middle;\n",
       "    }\n",
       "\n",
       "    .dataframe tbody tr th {\n",
       "        vertical-align: top;\n",
       "    }\n",
       "\n",
       "    .dataframe thead th {\n",
       "        text-align: right;\n",
       "    }\n",
       "</style>\n",
       "<table border=\"1\" class=\"dataframe\">\n",
       "  <thead>\n",
       "    <tr style=\"text-align: right;\">\n",
       "      <th></th>\n",
       "      <th>year</th>\n",
       "      <th>Temperature</th>\n",
       "      <th>Unemployment</th>\n",
       "    </tr>\n",
       "  </thead>\n",
       "  <tbody>\n",
       "    <tr>\n",
       "      <th>0</th>\n",
       "      <td>2010</td>\n",
       "      <td>63.378727</td>\n",
       "      <td>7.397903</td>\n",
       "    </tr>\n",
       "    <tr>\n",
       "      <th>1</th>\n",
       "      <td>2011</td>\n",
       "      <td>63.117628</td>\n",
       "      <td>7.044934</td>\n",
       "    </tr>\n",
       "    <tr>\n",
       "      <th>2</th>\n",
       "      <td>2012</td>\n",
       "      <td>66.991137</td>\n",
       "      <td>6.152568</td>\n",
       "    </tr>\n",
       "  </tbody>\n",
       "</table>\n",
       "</div>"
      ],
      "text/plain": [
       "   year  Temperature  Unemployment\n",
       "0  2010    63.378727      7.397903\n",
       "1  2011    63.117628      7.044934\n",
       "2  2012    66.991137      6.152568"
      ]
     },
     "execution_count": 7,
     "metadata": {},
     "output_type": "execute_result"
    }
   ],
   "source": [
    "Region_A = merged_all_files[merged_all_files['Region']=='A'].copy()\n",
    "df = Region_A[['Store','Date',]].copy()            \n",
    "df['year'] = pd.to_datetime(df['Date']).dt.to_period('Y').copy()\n",
    "Region_A['year'] = df['year'].copy()\n",
    "Region_A = Region_A.groupby('year', as_index=False)['Temperature','Unemployment'].mean().copy()\n",
    "Region_A.head()"
   ]
  },
  {
   "cell_type": "code",
   "execution_count": 8,
   "metadata": {
    "colab": {
     "base_uri": "https://localhost:8080/",
     "height": 478
    },
    "colab_type": "code",
    "id": "rsfucW5uGYKY",
    "outputId": "0a674814-14ef-42ad-fafb-ac05867f590e"
   },
   "outputs": [
    {
     "data": {
      "image/png": "[encoded data removed]",
      "text/plain": [
       "<Figure size 720x576 with 1 Axes>"
      ]
     },
     "metadata": {
      "needs_background": "light"
     },
     "output_type": "display_data"
    }
   ],
   "source": [
    "Region_A.plot(kind='bar',figsize=[10,8])\n",
    "plt.xticks(Region_A.index,Region_A[\"year\"].values)\n",
    "plt.xlabel('Year')\n",
    "plt.show()"
   ]
  },
  {
   "cell_type": "markdown",
   "metadata": {
    "colab_type": "text",
    "id": "31DAHiVmeRvW"
   },
   "source": [
    "# Weekly sales of Region B for 2010"
   ]
  },
  {
   "cell_type": "code",
   "execution_count": 9,
   "metadata": {
    "colab": {},
    "colab_type": "code",
    "id": "hGMJt0_eZ72Y"
   },
   "outputs": [],
   "source": [
    "Region_B = merged_all_files[merged_all_files['Region']=='B'].copy()\n",
    "Region_B.drop(['Unemployment','Temperature','Store','Region'],axis=1,inplace=True)\n",
    "Region_B['Year'] = pd.to_datetime(Region_B['Date']).dt.to_period('Y')\n",
    "Region_B = Region_B[Region_B['Year']==2010].copy()\n",
    "Region_B = Region_B.groupby('Date').sum().copy()\n"
   ]
  },
  {
   "cell_type": "code",
   "execution_count": 10,
   "metadata": {
    "colab": {
     "base_uri": "https://localhost:8080/",
     "height": 674
    },
    "colab_type": "code",
    "id": "noRQZo5Te5TT",
    "outputId": "e25ea6a0-4be9-4f32-cda5-400055040206"
   },
   "outputs": [
    {
     "data": {
      "image/png": "[encoded data removed]",
      "text/plain": [
       "<Figure size 720x720 with 1 Axes>"
      ]
     },
     "metadata": {
      "needs_background": "light"
     },
     "output_type": "display_data"
    }
   ],
   "source": [
    "Region_B.index = Region_B.index.date # remove time stamp from date\n",
    "Region_B.plot(kind='bar',figsize=[10,10])\n",
    "plt.ylabel('Sales')\n",
    "plt.xlabel('Week of 2010')\n",
    "plt.show()"
   ]
  },
  {
   "cell_type": "markdown",
   "metadata": {
    "colab_type": "text",
    "id": "Ku2FOWBmqTWg"
   },
   "source": [
    "# sale of store for  region C in 2011"
   ]
  },
  {
   "cell_type": "code",
   "execution_count": 12,
   "metadata": {
    "colab": {},
    "colab_type": "code",
    "id": "dlPREoBTgpw6"
   },
   "outputs": [],
   "source": [
    "Region_C_for_sale = merged_all_files[merged_all_files['Region']=='C'].copy()\n",
    "Region_C_for_sale['Year'] = pd.to_datetime(Region_C_for_sale['Date']).dt.to_period('Y').copy()\n",
    "Region_C_Sale_2011 = Region_C_for_sale[Region_C_for_sale['Year']==2011].copy()\n",
    "Region_C_Sale_2011.drop(['Temperature','Unemployment','Region','Date','Year'],axis=1,inplace=True)\n",
    "Region_C_sale = Region_C_Sale_2011.groupby('Store',).sum().copy()\n",
    "Region_C_sale.columns = ['Yearly_sale']"
   ]
  },
  {
   "cell_type": "code",
   "execution_count": 13,
   "metadata": {
    "colab": {
     "base_uri": "https://localhost:8080/",
     "height": 303
    },
    "colab_type": "code",
    "id": "nBxQEpkMre6P",
    "outputId": "e01b00f4-2eec-4aeb-d50e-2f933fd3feff"
   },
   "outputs": [
    {
     "data": {
      "image/png": "[encoded data removed]",
      "text/plain": [
       "<Figure size 432x288 with 1 Axes>"
      ]
     },
     "metadata": {
      "needs_background": "light"
     },
     "output_type": "display_data"
    }
   ],
   "source": [
    "Region_C_sale.plot(kind='bar')\n",
    "plt.ylabel('Sales')\n",
    "plt.xlabel('Stores in region C')\n",
    "plt.show()"
   ]
  },
  {
   "cell_type": "code",
   "execution_count": null,
   "metadata": {},
   "outputs": [],
   "source": []
  }
 ],
 "metadata": {
  "colab": {
   "collapsed_sections": [],
   "name": "PizzaTrends.ipynb",
   "provenance": [],
   "version": "0.3.2"
  },
  "kernelspec": {
   "display_name": "Python 3",
   "language": "python",
   "name": "python3"
  },
  "language_info": {
   "codemirror_mode": {
    "name": "ipython",
    "version": 3
   },
   "file_extension": ".py",
   "mimetype": "text/x-python",
   "name": "python",
   "nbconvert_exporter": "python",
   "pygments_lexer": "ipython3",
   "version": "3.6.7"
  }
 },
 "nbformat": 4,
 "nbformat_minor": 1
}
